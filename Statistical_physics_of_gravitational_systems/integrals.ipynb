{
 "cells": [
  {
   "cell_type": "code",
   "execution_count": null,
   "metadata": {},
   "outputs": [],
   "source": [
    "import numpy as np\n",
    "import scipy as sp\n",
    "import sympy as smp\n",
    "import matplotlib.pyplot as plt \n",
    "from scipy.integrate import quad\n"
   ]
  },
  {
   "cell_type": "markdown",
   "metadata": {},
   "source": [
    "# Modeling a spiral galaxy using statistical physics\n",
    "\n",
    "The goal of this notebook is to model a spiral galaxy using statistical physics and calculate the internal energy of this system. That could be interpreted as an effective potential to which a point particle (star) on the outskirts of the galaxy would be subjected to.\n",
    "\n",
    "## A quick review from statistical physics\n",
    "\n",
    "### 1 - Microstates and macrostates\n",
    "\n",
    "In classical physics, a given particle can have any value of energy, from 0 to infinity. To describe a particle in a given energy state, we can parametrize it by $\\epsilon(x)$, where $x$ is a continuous variable/index used to specify the state of the particle (in quantum physics, one would use an integer index given that only a discrete number of energy states are allowed in that case).\n",
    "\n",
    "One can think of the system as composed of many small boxes, each of them containing particles with similar energies. _If_ one _knows_ the distribution of particles throughout all energy levels, one can count the number of particles in each box. That number can be approximated as:\n",
    "\n",
    "\\begin{align}\n",
    "dN = n(\\epsilon)d\\epsilon\n",
    "\\end{align}\n",
    "\n",
    "\n",
    "where $n(\\epsilon)$ is the particle number density over the energy states. \n",
    "\n",
    "As an example, think of a table in a room. The atoms in the piece of wood that makes the top of the table are very close to each other and have very similar gravitational potential energy. Suppose that that is the only energy they are submitted to. The energy levels for every atom can be calculated by:\n",
    "$$\n",
    "\\epsilon(h) = mgh\n",
    "$$\n",
    "which is an increasing function of the height $h$ (distance between the atom and the floor, which is assumed to have zero potential energy). Note that the particle number density could be written in terms of the height $h$ or in terms of the energy values, since both are monotonically increasing parameters.\n",
    "\n",
    "Suppose that the table top is made of 1000 layers of 100 atoms each and that those layers are very close to each other. In this case the particle number distribution would be constant, and we only need to multiple it to $d\\epsilon$ to obtain $dN$. (Note that in our example we would need to model the $n(\\epsilon)$ for the table as a sum of multiple Dirac delta distributions multiplied by 100).\n",
    "\n",
    "### 2 - Microstates and macrostates of a spiral galaxy\n",
    "\n",
    "Another example is that of a spiral galaxy. In that case, each star has an energy of\n",
    "$$\n",
    "E(\\textbf{p}_i,\\textbf{r}_i, m_i) = \\frac{\\textbf{p}^2_i}{2m_i} - \\frac{GM(\\textbf{r})m_i}{\\textbf{r}_i}.\n",
    "$$\n",
    "Here, $M(\\textbf{r})$ is a function that depends on the distance of the current star to the center of the galaxy. If we assume dark matter does not exist, it can be inferred from observations from the luminosity function.\n",
    "\n",
    "Suppose we have the distribution function of stars in relation to their energy level, $n(E)$. In that case, given an energy level, we would know how many stars have that energy. Note that, due to the intricate energy density dependency in relation to their momentum, position and **mass**, stars in different positions in space can have the same energy levels. Each set of stars with the same energy level is known as a macrostate in statistical physics. In classical physics, even identical particles can be tracked in spacetime. So, the counting procedures of the number of microstates is different from those in quantum physics (see section 2 of [this link](https://www.scielo.br/j/rbef/a/xyn9cdHZrLv9RXXbwMmTNzt/?lang=en).\n",
    "\n",
    "**The dependency of the energy levels on the mass, and the fact that we can track classical particles in spacetime, make the particles distinguishable. One of the basic principles in many of the physical systems studied in statistical physics rely on indistinguishable particles. We need to come back to this example and deal with this fact when trying to apply statistical physics methods to this system.**\n",
    "\n",
    "### 3 - Back to the general case\n",
    "\n",
    "It is important to emphasize that the principle of equidistribution of participles over the macrostates deals with the set of all possible realizations of the microstates that will lead to a given macrostate. This set is an ensemble of states, not the physical realization of a given system. For example, considering a gas of stars, all possible choices of position, velocity and mass that lead to the same energy will be equally probable, but they are not all realized in a given real galaxy. \n",
    "\n",
    "Each macrostate $k$ contains a certain number of particles $N_i$. Given a set with $N$ particles, the macrostate $k$ can be realized by a number $w_k$ of microstates, which is referred as the *thermodynamical probability*. Even though it has the word probability in it, it does not vary from 0 to 1.\n",
    "\n",
    "For example, suppose we have $N$ stars in total and that the macrostate $k=2$ has $N_1$ stars in it. The number of possible ways to choose $N_1$ particles with the same energy level, given $N$ particles, is given by the combination equation since the order of the choice does not matter. Note that, here we are assuming that all $N$ particles (stars) could in principle have the energy level required to be in the macrostate $k$. The number of microstates is not a physical realization but a mathematical abstraction, i.e.,an ensemble, and contains more information than the physical realization of the system. Note also that, one physical realization for the macrostate $k=2$ is just one possibility (one microstate) out of the space of all possible realizations (the number of microstates associated to the macrostate $k$, i.e., $w_k$ of $N$ stars with different masses, positions and velocities).\n",
    "\n",
    "For an isolated system, the total number of particles $N$ and the energy of the system $E$ are conserverd and satisfy the constraints below:\n",
    "$$\n",
    "\\sum_i N_i = N\n",
    "$$\n",
    "$$\n",
    "\\sum_i N_i \\epsilon_i = U\n",
    "$$\n",
    "which limits the number of possibilities of allowed macrostates $k$.\n",
    "\n",
    "If the number of microstates is finite, one can count then and calculate them using the thermodynamical probability:\n",
    "$$\n",
    "\\Omega = \\sum_k w_k.\n",
    "$$\n",
    "\n",
    "\n"
   ]
  },
  {
   "cell_type": "code",
   "execution_count": null,
   "metadata": {},
   "outputs": [],
   "source": []
  },
  {
   "cell_type": "markdown",
   "metadata": {},
   "source": [
    "Integrando a função que fornece a massa associada à matéria bariônica no centro de uma galaxia espiral:\n",
    "\n",
    "$$ M(r) = 2\\pi h^2 \\Sigma_0 \\int_0^r d(r'/h) (r'/h)*exp(-r'/h)$$\n",
    "\n",
    "onde a função de surface brightness é dada por:\n",
    "\n",
    "$$ \\Sigma(r) = \\Sigma_0 exp(-r'/h)$$"
   ]
  },
  {
   "cell_type": "code",
   "execution_count": null,
   "metadata": {},
   "outputs": [],
   "source": [
    "# Nesse caso x = r'/h e a = r\n",
    "x = smp.symbols('x',real=True)\n",
    "a = smp.symbols('a', real=True)"
   ]
  },
  {
   "cell_type": "code",
   "execution_count": null,
   "metadata": {},
   "outputs": [],
   "source": [
    "x"
   ]
  },
  {
   "cell_type": "code",
   "execution_count": null,
   "metadata": {},
   "outputs": [],
   "source": [
    "f = x*smp.exp(-x)"
   ]
  },
  {
   "cell_type": "code",
   "execution_count": null,
   "metadata": {},
   "outputs": [],
   "source": [
    "smp.integrate(f,(x,0,a))"
   ]
  },
  {
   "cell_type": "markdown",
   "metadata": {},
   "source": [
    "Agora, para obter a função de partição, devemos integrar a função referente ao potencial gravitacional, dado pela integral abaixo\n",
    "\n",
    "$$\\int_0^\\infty dr *r* \\exp\\bigg(-\\beta 2\\pi h^2 G \\Sigma_0 \\bigg[1-\\big(1+r/h\\big)\\exp\\big(-r/h\\big)\\bigg]\\bigg)"
   ]
  },
  {
   "cell_type": "markdown",
   "metadata": {},
   "source": []
  },
  {
   "cell_type": "code",
   "execution_count": null,
   "metadata": {},
   "outputs": [],
   "source": [
    "# Nesse caso x = r/h e a = beta *2*pi*h^2*G*\\sigma\n",
    "x = smp.symbols('x',real=True)\n",
    "a,R = smp.symbols('a R', real=True, positive = True)"
   ]
  },
  {
   "cell_type": "code",
   "execution_count": null,
   "metadata": {},
   "outputs": [],
   "source": [
    "f = x*smp.exp(-a*(1-(1+x)*smp.exp(-x)))"
   ]
  },
  {
   "cell_type": "code",
   "execution_count": null,
   "metadata": {},
   "outputs": [],
   "source": [
    "smp.integrate(f,(x,0,R))"
   ]
  },
  {
   "cell_type": "markdown",
   "metadata": {},
   "source": [
    "Não parece ser possível encontrar uma solução analítica para tal integral.\n",
    "\n",
    "Vamos tentar outro profile para a distribuição de massa da galaxia espiral.\n",
    "\n"
   ]
  },
  {
   "cell_type": "code",
   "execution_count": null,
   "metadata": {},
   "outputs": [],
   "source": [
    "# Generate values for r (avoiding zero)\n",
    "r_values = np.linspace(0.01, 5, 100)  # Generate 100 values between 0.01 and 5\n",
    "\n",
    "# Calculate 1/r for each value of r\n",
    "function_values_1_over_r = 1 / r_values\n",
    "\n",
    "# Calculate exp(-r) for each value of r\n",
    "function_values_exp_minus_r = np.exp(-r_values)\n",
    "\n",
    "# Plot both functions\n",
    "plt.plot(r_values, function_values_1_over_r, label='1/r')\n",
    "plt.plot(r_values, function_values_exp_minus_r, label='exp(-r)')\n",
    "plt.title('Comparison of 1/r and exp(-r) Functions')\n",
    "plt.xlabel('r')\n",
    "plt.ylabel('Function Value')\n",
    "plt.grid(True)\n",
    "plt.legend()\n",
    "plt.show()\n"
   ]
  },
  {
   "cell_type": "markdown",
   "metadata": {},
   "source": [
    "# Utilizando um profile do tipo lei de potencias\n",
    "\n",
    "Integrando a função que fornece a massa associada à matéria bariônica no centro de uma galaxia espiral:\n",
    "\n",
    "$$ M(r) = 2\\pi h^2 \\Sigma_0 \\int_0^r d(r'/h) (r'/h)^{-n+1}$$\n",
    "\n",
    "onde a função de surface brightness é dada por:\n",
    "\n",
    "$$ \\Sigma(r') = \\Sigma_0 (-r'/h)^{-n}$$"
   ]
  },
  {
   "cell_type": "markdown",
   "metadata": {},
   "source": []
  },
  {
   "cell_type": "code",
   "execution_count": null,
   "metadata": {},
   "outputs": [],
   "source": [
    "# Nesse caso x = r'/h e a = r\n",
    "x = smp.symbols('x',real=True)\n",
    "a = smp.symbols('a r', real=True,positive =True)"
   ]
  },
  {
   "cell_type": "code",
   "execution_count": null,
   "metadata": {},
   "outputs": [],
   "source": [
    "n = 5\n",
    "f = (x)**(-n+1)"
   ]
  },
  {
   "cell_type": "code",
   "execution_count": null,
   "metadata": {},
   "outputs": [],
   "source": [
    "smp.integrate(f,(x,0.0002,r))"
   ]
  },
  {
   "cell_type": "markdown",
   "metadata": {},
   "source": [
    "Agora, para obter a função de partição, devemos integrar a função referente ao potencial gravitacional, dado pela integral abaixo\n",
    "\n",
    "$$\\int_0^\\infty dr *r* \\exp\\bigg(-\\beta 2\\pi h^2 G \\Sigma_0 \\bigg[\\frac{r^{1-n}}{2-n}\\bigg]\\bigg)$$\n",
    "\n",
    "O fato de termos $r^{1-n}$ ao invés de  $r^{2-n}$ se deve ao fato de o potencial gravitacional possuir um fator $1/r$ multiplicando a massa $M(r)$."
   ]
  },
  {
   "cell_type": "markdown",
   "metadata": {},
   "source": []
  },
  {
   "cell_type": "code",
   "execution_count": null,
   "metadata": {},
   "outputs": [],
   "source": [
    "# Nesse caso x = r/h e a = beta *2*pi*h^2*G*\\sigma\n",
    "x = smp.symbols('x',real=True)\n",
    "a,R = smp.symbols('a R', real=True, positive = True)"
   ]
  },
  {
   "cell_type": "code",
   "execution_count": null,
   "metadata": {},
   "outputs": [],
   "source": [
    "n=4\n",
    "f = x*smp.exp(-(a*x**(1-n)/(2-n)))"
   ]
  },
  {
   "cell_type": "code",
   "execution_count": null,
   "metadata": {},
   "outputs": [],
   "source": [
    "smp.integrate(f,(x,0,smp.oo))"
   ]
  },
  {
   "cell_type": "markdown",
   "metadata": {},
   "source": []
  }
 ],
 "metadata": {
  "kernelspec": {
   "display_name": ".venv",
   "language": "python",
   "name": "python3"
  },
  "language_info": {
   "codemirror_mode": {
    "name": "ipython",
    "version": 3
   },
   "file_extension": ".py",
   "mimetype": "text/x-python",
   "name": "python",
   "nbconvert_exporter": "python",
   "pygments_lexer": "ipython3",
   "version": "3.10.12"
  }
 },
 "nbformat": 4,
 "nbformat_minor": 2
}
