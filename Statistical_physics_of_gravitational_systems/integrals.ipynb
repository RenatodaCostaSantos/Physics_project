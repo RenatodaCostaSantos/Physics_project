{
 "cells": [
  {
   "cell_type": "code",
   "execution_count": 1,
   "metadata": {},
   "outputs": [],
   "source": [
    "import numpy as np\n",
    "import scipy as sp\n",
    "import sympy as smp\n",
    "import matplotlib.pyplot as plt \n",
    "from scipy.integrate import quad\n"
   ]
  },
  {
   "cell_type": "markdown",
   "metadata": {},
   "source": [
    "# Modeling a spiral galaxy using statistical physics\n",
    "\n",
    "The goal of this notebook is to model a spiral galaxy using statistical physics and calculate the internal energy of this system. That could be interpreted as an effective potential to which a point particle (star) on the outskirts of the galaxy would be subjected to.\n",
    "\n",
    "## A quick review from statistical physics\n",
    "\n",
    "### 1 - Microstates and macrostates\n",
    "\n",
    "In classical physics, a given particle can have any value of energy, from 0 to infinity. To describe a particle in a given energy state, we can parametrize it by $\\epsilon(x)$, where $x$ is a continuous variable/index used to specify the state of the particle (in quantum physics, one would use an integer index given that only a discrete number of energy states are allowed in that case).\n",
    "\n",
    "One can think of the system as composed of many small boxes, each of them containing particles with similar energies. _If_ one _knows_ the distribution of particles throughout all energy levels, one can count the number of particles in each box. That number can be approximated as:\n",
    "\n",
    "\\begin{align}\n",
    "dN = n(\\epsilon)d\\epsilon\n",
    "\\end{align}\n",
    "\n",
    "\n",
    "where $n(\\epsilon)$ is the particle number density over the energy states. \n",
    "\n",
    "As an example, think of a table in a room. The atoms in the piece of wood that makes the top of the table are very close to each other and have very similar gravitational potential energy. Suppose that that is the only energy they are submitted to. The energy levels for every atom can be calculated by:\n",
    "$$\n",
    "\\epsilon(h) = mgh\n",
    "$$\n",
    "which is an increasing function of the height $h$ (distance between the atom and the floor, which is assumed to have zero potential energy). Note that the particle number density could be written in terms of the height $h$ or in terms of the energy values, since both are monotonically increasing parameters.\n",
    "\n",
    "Suppose that the table top is made of 1000 layers of 100 atoms each and that those layers are very close to each other. In this case the particle number distribution would be constant, and we only need to multiple it to $d\\epsilon$ to obtain $dN$. (Note that in our example we would need to model the $n(\\epsilon)$ for the table as a sum of multiple Dirac delta distributions multiplied by 100).\n",
    "\n",
    "### 2 - Microstates and macrostates of a spiral galaxy\n",
    "\n",
    "Another example is that of a spiral galaxy. In that case, each star has an energy of\n",
    "$$\n",
    "E(\\textbf{p}_i,\\textbf{r}_i, m_i) = \\frac{\\textbf{p}^2_i}{2m_i} - \\frac{GM(\\textbf{r})m_i}{\\textbf{r}_i}.\n",
    "$$\n",
    "Here, $M(\\textbf{r})$ is a function that depends on the distance of the current star to the center of the galaxy. If we assume dark matter does not exist, it can be inferred from observations from the luminosity function.\n",
    "\n",
    "Suppose we have the distribution function of stars in relation to their energy level, $n(E)$. In that case, given an energy level, we would know how many stars have that energy. Note that, due to the intricate energy density dependency in relation to their momentum, position and **mass**, stars in different positions in space can have the same energy levels. Each set of stars with the same energy level is known as a macrostate in statistical physics. In classical physics, even identical particles can be tracked in spacetime. So, the counting procedures of the number of microstates is different from those in quantum physics (see section 2 of [this link](https://www.scielo.br/j/rbef/a/xyn9cdHZrLv9RXXbwMmTNzt/?lang=en).\n",
    "\n",
    "**The dependency of the energy levels on the mass, and the fact that we can track classical particles in spacetime, make the particles distinguishable. One of the basic principles in many of the physical systems studied in statistical physics rely on indistinguishable particles. We need to come back to this example and deal with this fact when trying to apply statistical physics methods to this system.**\n",
    "\n",
    "### 3 - Back to the general case\n",
    "\n",
    "It is important to emphasize that the principle of equidistribution of participles over the macrostates deals with the set of all possible realizations of the microstates that will lead to a given macrostate. This set is an ensemble of states, not the physical realization of a given system. For example, considering a gas of stars, all possible choices of position, velocity and mass that lead to the same energy will be equally probable, but they are not all realized in a given real galaxy. \n",
    "\n",
    "Each macrostate $k$ contains a certain number of particles $N_i$. Given a set with $N$ particles, the macrostate $k$ can be realized by a number $w_k$ of microstates, which is referred as the *thermodynamical probability*. Even though it has the word probability in it, it does not vary from 0 to 1.\n",
    "\n",
    "For example, suppose we have $N$ stars in total and that the macrostate $k=2$ has $N_1$ stars in it. The number of possible ways to choose $N_1$ particles with the same energy level, given $N$ particles, is given by the combination equation since the order of the choice does not matter. Note that, here we are assuming that all $N$ particles (stars) could in principle have the energy level required to be in the macrostate $k$. The number of microstates is not a physical realization but a mathematical abstraction, i.e.,an ensemble, and contains more information than the physical realization of the system. Note also that, one physical realization for the macrostate $k=2$ is just one possibility (one microstate) out of the space of all possible realizations (the number of microstates associated to the macrostate $k$, i.e., $w_k$ of $N$ stars with different masses, positions and velocities).\n",
    "\n",
    "For an isolated system, the total number of particles $N$ and the energy of the system $E$ are conserverd and satisfy the constraints below:\n",
    "$$\n",
    "\\sum_i N_i = N\n",
    "$$\n",
    "$$\n",
    "\\sum_i N_i \\epsilon_i = U\n",
    "$$\n",
    "which limits the number of possibilities of allowed macrostates $k$.\n",
    "\n",
    "If the number of microstates is finite, one can count then and calculate them using the thermodynamical probability:\n",
    "$$\n",
    "\\Omega = \\sum_k w_k.\n",
    "$$\n",
    "\n",
    "### 4 - Two-state particle\n",
    "\n",
    "To exemplify some of the concepts we introduced, let's consider the example of a coin tossing. In this case, if we consider $N$ coins, each has two possible states, heads or tails. The total number of microstates is:\n",
    "$$\n",
    "\\Omega = 2^N.\n",
    "$$\n",
    "\n",
    "Suppose we have $N_1$ particles in one state and $N_2$ in the other states. Those sets define the two possible macrostates of the system. These numbers satisfy the constraint $N_1 + N_2 = N$. The thermodynamical probability associated to the macrostate $N_1$ is the combination of having $N_1$ out of $N$ particles in that macrostate, i.e:\n",
    "$$\n",
    "w_{N_1} = \\frac{N!}{N_1!(N-N_1)!}.\n",
    "$$\n",
    "\n"
   ]
  },
  {
   "cell_type": "markdown",
   "metadata": {},
   "source": [
    "### 5 - Multiple coins\n",
    "\n",
    "It is not hard to generalize the results above (see [https://www.lehman.edu/faculty/dgaranin/Statistical_Thermodynamics/Statistical_physics.pdf](Dmitry Garani notes for details)) to the case of multiple coin tossing. The result for the thermodynamical probability is:\n",
    "$$\n",
    "w = \\frac{N!}{\\Pi_{i=1}^{N} N_i!}.\n",
    "$$\n"
   ]
  },
  {
   "cell_type": "markdown",
   "metadata": {},
   "source": [
    "### 6 - Thermodynamics entropy and probability\n",
    "\n",
    "It can be shown that the distribution for the thermodynamical probability has a maximum at the macrostates with the largest value. In the example where one tossess multiple coins, the macrostate with half of the coins landing head and the other half landing tails is much bigger than the case where all coins land tails, for example. That resembles the concept of entropy, where nature tend to find the maximum value of the entropy when in equilibrium. However, we know that the thermodynamical entropy is additive while the thermodynamical probability is multiplicative. One can link both concepts (Boltzman) as:\n",
    "$$\n",
    "S = k_b \\ln w.\n",
    "$$\n",
    "This definition of entropy generalizes the one from thermodynamics, which is only defined for systems in equilibrium."
   ]
  },
  {
   "cell_type": "markdown",
   "metadata": {},
   "source": [
    "### 7 - Boltzman distribution\n",
    "\n",
    "We saw that if we assume the equal probability for all possible states and perform an experiment many times, it will tend to the macrostate with the highest thermodynamic probability (which counts the number of **possible** microstates within a macrostate). We also know from thermodynamics that the entropy of a physical system will tend to the state of maximum entropy. Boltzmann did link up both concepts with his famous equation stated in the previous section.\n",
    "\n",
    "We argued that the maximum of the thermodynamic probability is linked to the entropy of a physical system. In order to find the distribution of particles of energy pertaining to an energy state $i$, we compute the maximum of the log of the thermodynamic probability subjected to the constraints. In order words, we need to maximize the target function (see [Leonard Susskind's lectures on statistical physics](https://www.youtube.com/watch?v=rhFkYjaM5kE) for more details):\n",
    "$$\n",
    "\\Phi(N_1,N_2,...,N_N) = \\ln w + \\alpha (\\sum_i N_i -N) - \\beta (\\sum \\epsilon_i N_i + E).\n",
    "$$"
   ]
  },
  {
   "cell_type": "markdown",
   "metadata": {},
   "source": [
    "### 8 - Deriving the Boltzmann distribution\n",
    "\n",
    "Back to the task of maximizing the the target function. We want to find\n",
    "$$\n",
    "\\frac{\\partial \\Phi}{\\partial x_i} = 0, \\qquad i = 1, 2, ...\n",
    "$$\n",
    "The log of the factorials associated to $w$ can be simplified by the Stirling's formula\n",
    "$$\n",
    "\\ln N! \\approx N \\ln N - N + \\ln\\sqrt{2\\pi N}\n",
    "$$\n",
    "For large $N$ we can ignore the subleading term containing $\\sqrt{N}$.\n",
    "\n",
    "**Proof of Stirling's formula**\n",
    "\n",
    "$$\n",
    "\\ln N! = \\sum^N_{x=1} \\ln x \\approx \\int_i^N dx \\ln x = (x \\ln x - x)|_1^N \\approx N \\ln N - N.\n",
    "$$\n",
    "\n",
    "(Hint: To check the last equality just differentiate the last term of the equation.)\n",
    "\n",
    "The target function for large $N$ can be simplified to\n",
    "$$\n",
    "\\Phi \\approx \\ln w + \\alpha \\sum_i N_i - \\beta \\sum \\epsilon_i N_i .\n",
    "$$\n",
    "Now using\n",
    "$$\n",
    "w = \\frac{N!}{\\Pi^N_{i=1}N_i!}\n",
    "$$\n",
    "we have\n",
    "$$\n",
    "\\ln w = \\ln N! - \\sum_{i=1}^N N_i \\ln N_i - \\sum_{i=1}^N N_i\n",
    "$$\n",
    "Thus\n",
    "$$\n",
    "\\Phi \\approx \\ln N! - \\sum_{i=1}^N N_i \\ln N_i + \\sum_{i=1}^N N_i + \\alpha \\sum_i N_i - \\beta \\sum \\epsilon_i N_i. \n",
    "$$\n",
    "Taking the derivatives of the expression above and setting it to zero leads to:\n",
    "$$\n",
    "\\frac{\\partial \\Phi}{\\partial x_i} = - \\ln N_i + \\alpha - \\beta \\epsilon_i = 0\n",
    "$$\n",
    "So\n",
    "$$\n",
    "N_i = \\exp{(\\alpha - \\beta \\epsilon_i).}\n",
    "$$\n",
    "This is the Boltzmann distribution with the Lagrange multipliers yet to be determined.\n",
    "\n",
    "In order to find $\\alpha$ and $\\beta$ we use the constraint equations.\n",
    "If we sum up the Boltzmann distribuition, with the Lagrange multipliers, with the first constraint equation we obtain\n",
    "$$\n",
    "N = e^\\alpha \\mathcal{Z}, \\qquad \\alpha = \\ln(N/\\mathcal{Z})\n",
    "$$\n",
    "where \n",
    "$$\n",
    "\\mathcal{Z} = \\sum_i e^{-\\beta \\epsilon_i}\n",
    "$$\n",
    "is the so called partition function.\n",
    "\n",
    "Eliminating $\\alpha$ from Boltzmann distribution with the Lagrange multipliers, we obtain\n",
    "$$\n",
    "N_i = \\frac{N}{\\mathcal{Z}}\\exp{(- \\beta \\epsilon_i)}\n",
    "$$\n",
    "which is called the Boltzmann distribution. \n",
    "\n",
    "Imposing the constraint for the internal energy \n",
    "\\begin{align}\n",
    "U &= \\sum_i \\epsilon_i N_i \\\\\n",
    "&=\\frac{N}{\\mathcal{Z}} \\sum_i e^{-\\beta \\epsilon_i} \\epsilon_i \\\\\n",
    "&= - \\frac{N}{\\mathcal{Z}} \\frac{\\partial \\mathcal{Z}}{\\partial \\beta}\n",
    "\\end{align}\n",
    "or\n",
    "$$\n",
    "U = - N \\frac{\\partial \\ln \\mathcal{Z}}{\\partial \\beta}\n",
    "$$\n",
    "This equation implicitly defines $\\beta$ in terms of $U$.\n",
    "\n",
    "The statistical entropy, using the Stirling's approximation leads to\n",
    "$$\n",
    "S = k_B \\ln w = k_B (N \\ln N - \\sum_i N_i \\ln N_i).\n",
    "$$\n",
    "\n",
    "Using the Boltzmann distribution with the Lagrange multipliers,\n",
    "\\begin{align}\n",
    "S &= k_B \\ln w \\\\\n",
    "&= k_B \\bigg(N \\ln N - \\sum_i N_i \\ln (\\frac{N}{\\mathcal{Z}}e^{- \\beta \\epsilon_i})\\bigg) \\\\\n",
    "&= N \\ln Z + \\beta U.\n",
    "\\end{align}\n",
    "The only parameter to which the statistical entropy depends is $\\beta$, so\n",
    "$$\n",
    "dS = \\frac{dS}{d\\beta}d\\beta = \\bigg(N \\frac{\\partial \\ln Z}{\\partial \\beta} + U + \\beta \\frac{\\partial U}{\\partial \\beta}\\bigg) d \\beta = \\beta d U.\n",
    "$$\n",
    "\n",
    "From thermodynamics, we know that $dU = T dS$ at constant $V$. Thus we make the *identification*,\n",
    "$$\n",
    "\\beta = \\frac{1}{k_B T}.\n",
    "$$\n",
    "Using the identification above one can rewrite the equation for the internal energy as\n",
    "$$\n",
    "U = N k_B T^2 \\frac{\\partial Z}{\\partial T}\n",
    "$$\n",
    "since\n",
    "$$\n",
    "\\frac{d T}{d \\beta} = - k_B T^2.\n",
    "$$\n",
    "The statistical entropy becomes\n",
    "$$\n",
    "S = N k_B \\ln Z  + \\frac{U}{T}.\n",
    "$$\n",
    "Using this value in the thermodynamic free energy\n",
    "$$\n",
    "F = U - TS = -N k_B T \\ln Z.\n",
    "$$\n",
    "from which one can derive all the thermodynamic information from a system.\n"
   ]
  },
  {
   "cell_type": "markdown",
   "metadata": {},
   "source": [
    "### 9 - The partition function\n",
    "\n",
    "The partition function of a spiral galaxy is given by\n",
    "$$\n",
    "Z = \\int d\\epsilon \\rho(\\epsilon) e^{-\\beta \\epsilon}\n",
    "$$\n",
    "or (see [this lecture notes for details](https://www.physics.udel.edu/~glyde/PHYS813/Lectures/chapter_4.pdf))\n",
    "$$\n",
    "Z = \\frac{1}{l^2}\\int d\\vec{r}d\\vec{p} e^{-\\beta \\epsilon(\\vec{r},\\vec{p})},\n",
    "$$\n",
    "where\n",
    "$$\n",
    "\\epsilon(\\vec{r},\\vec{p}) = \\frac{\\vec{p}^2}{2 m} - \\frac{G M(\\vec{r})m}{|\\vec{r}|}\n",
    "$$\n",
    "and we are **assuming** that all stars have the same mass.\n"
   ]
  },
  {
   "cell_type": "markdown",
   "metadata": {},
   "source": [
    "\n",
    "### 10 - \"Mean field approximation\"\n",
    "\n",
    "To simplify even more our calculation, we assume a power law luminosity distribution for the spiral galaxy and use it to calculate the inner mass $M(\\vec{r})$. That will replace the interaction among all stars by a single particle with mass equal to the total baryonic mass contained in a disc of radius $\\vec{R}$, which is precisely the distance of the star with mass $m$ from the center of the galaxy.\n",
    "\n",
    "Assuming a power law profile for the surface brightness (I could not find a solution for the partition function using an exponential decaying profile for the surface brightness)\n",
    "$$\n",
    "\\Sigma(r') = \\Sigma_0 (r'/h)^{-n}\n",
    "$$\n",
    "we obtain\n",
    "$$\n",
    "M(r) = 2\\pi h^2 \\Sigma_0 \\int_0^{r} d(r'/h) (r'/h)^{-n+1}\n",
    "$$\n",
    "or\n",
    "$$\n",
    "M(r) = \\frac{2\\pi h^2 \\Sigma_0}{2-n}  (r/h)^{-n+2}\n",
    "$$\n",
    "where $r = |\\vec{r}|$. Note that we expect $n$ to be smaller than 2 so that the mass is positive. In fact, observations point out for $n < 1$ (see [this for a reference](https://jila.colorado.edu/~pja/astr3830/lecture15.pdf)).\n"
   ]
  },
  {
   "cell_type": "code",
   "execution_count": null,
   "metadata": {},
   "outputs": [],
   "source": [
    "# Nesse caso x = r'/h e a = r\n",
    "x = smp.symbols('x',real=True)\n",
    "a = smp.symbols('a r', real=True,positive =True)"
   ]
  },
  {
   "cell_type": "code",
   "execution_count": null,
   "metadata": {},
   "outputs": [],
   "source": [
    "n = 5\n",
    "f = (x)**(-n+1)"
   ]
  },
  {
   "cell_type": "code",
   "execution_count": null,
   "metadata": {},
   "outputs": [],
   "source": [
    "smp.integrate(f,(x,0.0002,r))"
   ]
  },
  {
   "cell_type": "markdown",
   "metadata": {},
   "source": [
    "Agora, para obter a função de partição, devemos integrar a função referente ao potencial gravitacional, dado pela integral abaixo\n",
    "\n",
    "$$\\int_0^\\infty dr *r* \\exp\\bigg(-\\beta 2\\pi h^2 G \\Sigma_0 \\bigg[\\frac{r^{1-n}}{2-n}\\bigg]\\bigg)$$\n",
    "\n",
    "O fato de termos $r^{1-n}$ ao invés de  $r^{2-n}$ se deve ao fato de o potencial gravitacional possuir um fator $1/r$ multiplicando a massa $M(r)$."
   ]
  },
  {
   "cell_type": "markdown",
   "metadata": {},
   "source": []
  },
  {
   "cell_type": "code",
   "execution_count": null,
   "metadata": {},
   "outputs": [],
   "source": [
    "# Nesse caso x = r/h e a = beta *2*pi*h^2*G*\\sigma\n",
    "x = smp.symbols('x',real=True)\n",
    "a,R = smp.symbols('a R', real=True, positive = True)"
   ]
  },
  {
   "cell_type": "code",
   "execution_count": null,
   "metadata": {},
   "outputs": [],
   "source": [
    "n=4\n",
    "f = x*smp.exp(-(a*x**(1-n)/(2-n)))"
   ]
  },
  {
   "cell_type": "code",
   "execution_count": null,
   "metadata": {},
   "outputs": [],
   "source": [
    "smp.integrate(f,(x,0,smp.oo))"
   ]
  },
  {
   "cell_type": "markdown",
   "metadata": {},
   "source": [
    "### 11 - Assuming an exponential profile for the surface brightness\n",
    "\n",
    "Integrando a função que fornece a massa associada à matéria bariônica no centro de uma galaxia espiral:\n",
    "\n",
    "$$ M(r) = 2\\pi h^2 \\Sigma_0 \\int_0^{r/h} d(r'/h) (r'/h)*exp(-r'/h)$$\n",
    "\n",
    "onde a função de surface brightness é dada por:\n",
    "\n",
    "$$ \\Sigma(r) = \\Sigma_0 exp(-r'/h)$$\n",
    "\n",
    "In the integrals below we will have\n",
    "\\begin{align}\n",
    "x &= r'/h, \\\\\n",
    "b &= 2\\pi h^2 \\Sigma_0\n",
    "\\end{align}"
   ]
  },
  {
   "cell_type": "code",
   "execution_count": null,
   "metadata": {},
   "outputs": [],
   "source": [
    "# Nesse caso x = r'/h, b = 2\\pi h^2 \\Sigma_0\n",
    "x = smp.symbols('x',real=True)\n",
    "r = smp.symbols('r', real=True)\n",
    "h = smp.symbols('h', real=True)\n",
    "b = smp.symbols('b', real=True)"
   ]
  },
  {
   "cell_type": "code",
   "execution_count": null,
   "metadata": {},
   "outputs": [
    {
     "data": {
      "text/latex": [
       "$\\displaystyle x$"
      ],
      "text/plain": [
       "x"
      ]
     },
     "metadata": {},
     "output_type": "display_data"
    }
   ],
   "source": [
    "x"
   ]
  },
  {
   "cell_type": "code",
   "execution_count": null,
   "metadata": {},
   "outputs": [],
   "source": [
    "f = x*smp.exp(-x)"
   ]
  },
  {
   "cell_type": "code",
   "execution_count": null,
   "metadata": {},
   "outputs": [],
   "source": [
    "M = b*smp.integrate(f,(x,0,r/h))"
   ]
  },
  {
   "cell_type": "code",
   "execution_count": null,
   "metadata": {},
   "outputs": [
    {
     "data": {
      "text/latex": [
       "$\\displaystyle b \\left(\\left(-1 - \\frac{r}{h}\\right) e^{- \\frac{r}{h}} + 1\\right)$"
      ],
      "text/plain": [
       "b*((-1 - r/h)*exp(-r/h) + 1)"
      ]
     },
     "metadata": {},
     "output_type": "display_data"
    }
   ],
   "source": [
    "M"
   ]
  },
  {
   "cell_type": "markdown",
   "metadata": {},
   "source": [
    "The partition function is\n",
    "$$\n",
    "\\mathcal{Z} = \\sum_i e^{-\\beta \\epsilon_i}\n",
    "$$\n",
    "where\n",
    "$$\n",
    "\\epsilon_i = - \\frac{G M(r_i)m_i}{|\\vec{r}_i|}\n",
    "$$\n",
    "\n",
    "\n",
    "Agora, para obter a função de partição, devemos integrar a função referente ao potencial gravitacional, dado pela integral abaixo\n",
    "\n",
    "$$\\int_0^\\infty dr *r* \\exp\\bigg(-\\beta 2\\pi h^2 G \\Sigma_0 \\bigg[1-\\big(1+r/h\\big)\\exp\\big(-r/h\\big)\\bigg]\\bigg)$$\n"
   ]
  },
  {
   "cell_type": "code",
   "execution_count": null,
   "metadata": {},
   "outputs": [],
   "source": [
    "# Nesse caso x = r/h e a = beta *2*pi*h^2*G*\\Sigma_0\n",
    "x = smp.symbols('x',real=True)\n",
    "a,R = smp.symbols('a R', real=True, positive = True)"
   ]
  },
  {
   "cell_type": "code",
   "execution_count": null,
   "metadata": {},
   "outputs": [],
   "source": [
    "f = x*smp.exp(-a*(1-(1+x)*smp.exp(-x)))"
   ]
  },
  {
   "cell_type": "code",
   "execution_count": null,
   "metadata": {},
   "outputs": [],
   "source": [
    "smp.integrate(f,(x,0,R))"
   ]
  },
  {
   "cell_type": "markdown",
   "metadata": {},
   "source": [
    "Não parece ser possível encontrar uma solução analítica para tal integral.\n",
    "\n",
    "Vamos tentar outro profile para a distribuição de massa da galaxia espiral.\n",
    "\n"
   ]
  },
  {
   "cell_type": "code",
   "execution_count": null,
   "metadata": {},
   "outputs": [],
   "source": [
    "# Generate values for r (avoiding zero)\n",
    "r_values = np.linspace(0.01, 5, 100)  # Generate 100 values between 0.01 and 5\n",
    "\n",
    "# Calculate 1/r for each value of r\n",
    "function_values_1_over_r = 1 / r_values\n",
    "\n",
    "# Calculate exp(-r) for each value of r\n",
    "function_values_exp_minus_r = np.exp(-r_values)\n",
    "\n",
    "# Plot both functions\n",
    "plt.plot(r_values, function_values_1_over_r, label='1/r')\n",
    "plt.plot(r_values, function_values_exp_minus_r, label='exp(-r)')\n",
    "plt.title('Comparison of 1/r and exp(-r) Functions')\n",
    "plt.xlabel('r')\n",
    "plt.ylabel('Function Value')\n",
    "plt.grid(True)\n",
    "plt.legend()\n",
    "plt.show()\n"
   ]
  }
 ],
 "metadata": {
  "kernelspec": {
   "display_name": ".venv",
   "language": "python",
   "name": "python3"
  },
  "language_info": {
   "codemirror_mode": {
    "name": "ipython",
    "version": 3
   },
   "file_extension": ".py",
   "mimetype": "text/x-python",
   "name": "python",
   "nbconvert_exporter": "python",
   "pygments_lexer": "ipython3",
   "version": "3.10.12"
  }
 },
 "nbformat": 4,
 "nbformat_minor": 2
}
